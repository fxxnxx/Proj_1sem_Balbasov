{
  "nbformat": 4,
  "nbformat_minor": 0,
  "metadata": {
    "colab": {
      "name": "Untitled0.ipynb",
      "provenance": [],
      "collapsed_sections": [],
      "authorship_tag": "ABX9TyN+gUoypkgz/dYK2tO/CbdW",
      "include_colab_link": true
    },
    "kernelspec": {
      "name": "python3",
      "display_name": "Python 3"
    },
    "language_info": {
      "name": "python"
    }
  },
  "cells": [
    {
      "cell_type": "markdown",
      "metadata": {
        "id": "view-in-github",
        "colab_type": "text"
      },
      "source": [
        "<a href=\"https://colab.research.google.com/github/fxxnxx/Proj_1sem_Balbasov/blob/master/PZ_11.ipynb\" target=\"_parent\"><img src=\"https://colab.research.google.com/assets/colab-badge.svg\" alt=\"Open In Colab\"/></a>"
      ]
    },
    {
      "cell_type": "code",
      "execution_count": null,
      "metadata": {
        "id": "b9YfqBySaqbN"
      },
      "outputs": [],
      "source": [
        "\n",
        "a = input('Введите целое число а')\n",
        "while type(a) != int: #обработка исключений\n",
        "    try:\n",
        "        a = int(a)\n",
        "    except ValueError:\n",
        "        a = input('Введите целое число а!!!')\n",
        "if a > 0:\n",
        "    print('Число положительное.')\n",
        "else:\n",
        "    print('Число отрицательное.')"
      ]
    },
    {
      "cell_type": "code",
      "source": [
        "a = input('Введите A: ')\n",
        "b = input('Введите B: ')\n",
        "k = 0\n",
        "while type(a) != int:\n",
        "    try:\n",
        "        a = int(a)\n",
        "    except ValueError:\n",
        "        print('число не целое')\n",
        "        a = input('Введите целое число а!!!')\n",
        "\n",
        "\n",
        "while type(b) != int:\n",
        "    try:\n",
        "        b = int(b)\n",
        "    except ValueError:\n",
        "        print('число не целое')\n",
        "        b = input('Введите целое число а!!!')\n",
        "\n",
        "\n",
        "if a >= b:\n",
        "    print('А не должно быть больше А')\n",
        "\n",
        "while b >= a:\n",
        "    b = b - 1\n",
        "    k = k + 1\n",
        "    print(b)\n",
        "\n",
        "print('Колличество чисел между A и B: ', k - 1)"
      ],
      "metadata": {
        "id": "S24rv-wxcN70"
      },
      "execution_count": null,
      "outputs": []
    },
    {
      "cell_type": "code",
      "source": [
        "a = input('Введите любой символ: ')\n",
        "def spam(a, b = []):\n",
        "    k = 1\n",
        "    while k<=40:\n",
        "        b.append(a)\n",
        "        k+=1\n",
        "    print(b)\n",
        "spam(a)"
      ],
      "metadata": {
        "id": "dHgufKlxiDJl"
      },
      "execution_count": null,
      "outputs": []
    }
  ]
}